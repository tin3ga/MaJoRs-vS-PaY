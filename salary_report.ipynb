{
  "cells": [
    {
      "cell_type": "code",
      "execution_count": 1,
      "metadata": {
        "id": "YtTxE9TVL6i1"
      },
      "outputs": [],
      "source": [
        "import pandas as pd\n",
        "df = pd.read_csv('./salary.csv',usecols=[1, 2, 3, 4, 5])"
      ]
    },
    {
      "cell_type": "code",
      "execution_count": 2,
      "metadata": {
        "colab": {
          "base_uri": "https://localhost:8080/",
          "height": 206
        },
        "id": "mtBvcYsfNIbF",
        "outputId": "5f9a6d16-30da-417d-bcc4-58be99112cdf"
      },
      "outputs": [
        {
          "data": {
            "text/html": [
              "<div>\n",
              "<style scoped>\n",
              "    .dataframe tbody tr th:only-of-type {\n",
              "        vertical-align: middle;\n",
              "    }\n",
              "\n",
              "    .dataframe tbody tr th {\n",
              "        vertical-align: top;\n",
              "    }\n",
              "\n",
              "    .dataframe thead th {\n",
              "        text-align: right;\n",
              "    }\n",
              "</style>\n",
              "<table border=\"1\" class=\"dataframe\">\n",
              "  <thead>\n",
              "    <tr style=\"text-align: right;\">\n",
              "      <th></th>\n",
              "      <th>Rank</th>\n",
              "      <th>Major</th>\n",
              "      <th>Degree Type</th>\n",
              "      <th>Early Career Pay</th>\n",
              "      <th>Mid-Career Pay</th>\n",
              "    </tr>\n",
              "  </thead>\n",
              "  <tbody>\n",
              "    <tr>\n",
              "      <th>0</th>\n",
              "      <td>1</td>\n",
              "      <td>Petroleum Engineering</td>\n",
              "      <td>Bachelors</td>\n",
              "      <td>97500</td>\n",
              "      <td>212500</td>\n",
              "    </tr>\n",
              "    <tr>\n",
              "      <th>1</th>\n",
              "      <td>2</td>\n",
              "      <td>Operations Research &amp; Industrial Engineering</td>\n",
              "      <td>Bachelors</td>\n",
              "      <td>98300</td>\n",
              "      <td>191800</td>\n",
              "    </tr>\n",
              "    <tr>\n",
              "      <th>2</th>\n",
              "      <td>3</td>\n",
              "      <td>Interaction Design</td>\n",
              "      <td>Bachelors</td>\n",
              "      <td>74700</td>\n",
              "      <td>173600</td>\n",
              "    </tr>\n",
              "    <tr>\n",
              "      <th>3</th>\n",
              "      <td>4</td>\n",
              "      <td>Applied Economics and Management</td>\n",
              "      <td>Bachelors</td>\n",
              "      <td>76500</td>\n",
              "      <td>164400</td>\n",
              "    </tr>\n",
              "    <tr>\n",
              "      <th>4</th>\n",
              "      <td>5</td>\n",
              "      <td>Building Science</td>\n",
              "      <td>Bachelors</td>\n",
              "      <td>69000</td>\n",
              "      <td>163100</td>\n",
              "    </tr>\n",
              "  </tbody>\n",
              "</table>\n",
              "</div>"
            ],
            "text/plain": [
              "   Rank                                         Major Degree Type  \\\n",
              "0     1                         Petroleum Engineering   Bachelors   \n",
              "1     2  Operations Research & Industrial Engineering   Bachelors   \n",
              "2     3                            Interaction Design   Bachelors   \n",
              "3     4              Applied Economics and Management   Bachelors   \n",
              "4     5                              Building Science   Bachelors   \n",
              "\n",
              "   Early Career Pay  Mid-Career Pay  \n",
              "0             97500          212500  \n",
              "1             98300          191800  \n",
              "2             74700          173600  \n",
              "3             76500          164400  \n",
              "4             69000          163100  "
            ]
          },
          "execution_count": 2,
          "metadata": {},
          "output_type": "execute_result"
        }
      ],
      "source": [
        "df.head()"
      ]
    },
    {
      "cell_type": "code",
      "execution_count": 3,
      "metadata": {
        "colab": {
          "base_uri": "https://localhost:8080/"
        },
        "id": "OZL25UViNK5C",
        "outputId": "743c3fef-90af-4312-a042-6c2581839fcf"
      },
      "outputs": [
        {
          "data": {
            "text/plain": [
              "(799, 5)"
            ]
          },
          "execution_count": 3,
          "metadata": {},
          "output_type": "execute_result"
        }
      ],
      "source": [
        "df.shape"
      ]
    },
    {
      "cell_type": "code",
      "execution_count": 4,
      "metadata": {
        "colab": {
          "base_uri": "https://localhost:8080/"
        },
        "id": "7BzlHg_dNifb",
        "outputId": "f4410b7a-a06e-433c-e671-c276483377bb"
      },
      "outputs": [
        {
          "data": {
            "text/plain": [
              "Index(['Rank', 'Major', 'Degree Type', 'Early Career Pay', 'Mid-Career Pay'], dtype='object')"
            ]
          },
          "execution_count": 4,
          "metadata": {},
          "output_type": "execute_result"
        }
      ],
      "source": [
        "df.columns"
      ]
    },
    {
      "cell_type": "code",
      "execution_count": 5,
      "metadata": {
        "colab": {
          "base_uri": "https://localhost:8080/"
        },
        "id": "I_AubPhcRGZs",
        "outputId": "6820d369-3675-4fbb-fceb-2c738980b55a"
      },
      "outputs": [
        {
          "data": {
            "text/plain": [
              "Rank                 int64\n",
              "Major               object\n",
              "Degree Type         object\n",
              "Early Career Pay     int64\n",
              "Mid-Career Pay       int64\n",
              "dtype: object"
            ]
          },
          "execution_count": 5,
          "metadata": {},
          "output_type": "execute_result"
        }
      ],
      "source": [
        "df.dtypes"
      ]
    },
    {
      "cell_type": "code",
      "execution_count": 6,
      "metadata": {
        "colab": {
          "base_uri": "https://localhost:8080/",
          "height": 206
        },
        "id": "uJH7OAhXaMtZ",
        "outputId": "3b7b03b7-6aa9-4c44-ce77-30e560b321f7"
      },
      "outputs": [
        {
          "data": {
            "text/html": [
              "<div>\n",
              "<style scoped>\n",
              "    .dataframe tbody tr th:only-of-type {\n",
              "        vertical-align: middle;\n",
              "    }\n",
              "\n",
              "    .dataframe tbody tr th {\n",
              "        vertical-align: top;\n",
              "    }\n",
              "\n",
              "    .dataframe thead th {\n",
              "        text-align: right;\n",
              "    }\n",
              "</style>\n",
              "<table border=\"1\" class=\"dataframe\">\n",
              "  <thead>\n",
              "    <tr style=\"text-align: right;\">\n",
              "      <th></th>\n",
              "      <th>Major</th>\n",
              "      <th>Early Career Pay</th>\n",
              "    </tr>\n",
              "  </thead>\n",
              "  <tbody>\n",
              "    <tr>\n",
              "      <th>767</th>\n",
              "      <td>Voice &amp; Opera</td>\n",
              "      <td>38700</td>\n",
              "    </tr>\n",
              "    <tr>\n",
              "      <th>576</th>\n",
              "      <td>Painting &amp; Printmaking</td>\n",
              "      <td>39300</td>\n",
              "    </tr>\n",
              "    <tr>\n",
              "      <th>794</th>\n",
              "      <td>Equine Studies</td>\n",
              "      <td>40300</td>\n",
              "    </tr>\n",
              "    <tr>\n",
              "      <th>785</th>\n",
              "      <td>Mental Health Counseling</td>\n",
              "      <td>40600</td>\n",
              "    </tr>\n",
              "    <tr>\n",
              "      <th>745</th>\n",
              "      <td>Rehabilitation Services</td>\n",
              "      <td>41300</td>\n",
              "    </tr>\n",
              "  </tbody>\n",
              "</table>\n",
              "</div>"
            ],
            "text/plain": [
              "                        Major  Early Career Pay\n",
              "767             Voice & Opera             38700\n",
              "576    Painting & Printmaking             39300\n",
              "794            Equine Studies             40300\n",
              "785  Mental Health Counseling             40600\n",
              "745   Rehabilitation Services             41300"
            ]
          },
          "execution_count": 6,
          "metadata": {},
          "output_type": "execute_result"
        }
      ],
      "source": [
        "lowest_paying = df.sort_values('Early Career Pay', ascending=True)\n",
        "lowest_paying[['Major', 'Early Career Pay']].head()"
      ]
    },
    {
      "cell_type": "code",
      "execution_count": 7,
      "metadata": {
        "colab": {
          "base_uri": "https://localhost:8080/",
          "height": 206
        },
        "id": "4Kon7kUXcS1V",
        "outputId": "3abddff7-8b45-4107-e7ea-f542f5301476"
      },
      "outputs": [
        {
          "data": {
            "text/html": [
              "<div>\n",
              "<style scoped>\n",
              "    .dataframe tbody tr th:only-of-type {\n",
              "        vertical-align: middle;\n",
              "    }\n",
              "\n",
              "    .dataframe tbody tr th {\n",
              "        vertical-align: top;\n",
              "    }\n",
              "\n",
              "    .dataframe thead th {\n",
              "        text-align: right;\n",
              "    }\n",
              "</style>\n",
              "<table border=\"1\" class=\"dataframe\">\n",
              "  <thead>\n",
              "    <tr style=\"text-align: right;\">\n",
              "      <th></th>\n",
              "      <th>Major</th>\n",
              "      <th>Mid-Career Pay</th>\n",
              "    </tr>\n",
              "  </thead>\n",
              "  <tbody>\n",
              "    <tr>\n",
              "      <th>798</th>\n",
              "      <td>Metalsmithing</td>\n",
              "      <td>44900</td>\n",
              "    </tr>\n",
              "    <tr>\n",
              "      <th>797</th>\n",
              "      <td>Early Childhood Education</td>\n",
              "      <td>50600</td>\n",
              "    </tr>\n",
              "    <tr>\n",
              "      <th>796</th>\n",
              "      <td>Nonprofit Administration</td>\n",
              "      <td>52100</td>\n",
              "    </tr>\n",
              "    <tr>\n",
              "      <th>795</th>\n",
              "      <td>Addictions Counseling</td>\n",
              "      <td>52200</td>\n",
              "    </tr>\n",
              "    <tr>\n",
              "      <th>794</th>\n",
              "      <td>Equine Studies</td>\n",
              "      <td>52500</td>\n",
              "    </tr>\n",
              "  </tbody>\n",
              "</table>\n",
              "</div>"
            ],
            "text/plain": [
              "                         Major  Mid-Career Pay\n",
              "798              Metalsmithing           44900\n",
              "797  Early Childhood Education           50600\n",
              "796   Nonprofit Administration           52100\n",
              "795      Addictions Counseling           52200\n",
              "794             Equine Studies           52500"
            ]
          },
          "execution_count": 7,
          "metadata": {},
          "output_type": "execute_result"
        }
      ],
      "source": [
        "lowest_paying = df.sort_values('Mid-Career Pay', ascending=True)\n",
        "lowest_paying[['Major', 'Mid-Career Pay']].head()"
      ]
    },
    {
      "cell_type": "markdown",
      "metadata": {
        "id": "Vl_WWZAqfXOO"
      },
      "source": [
        "**Highest Early Career Paying Majors**"
      ]
    },
    {
      "cell_type": "code",
      "execution_count": 8,
      "metadata": {
        "colab": {
          "base_uri": "https://localhost:8080/",
          "height": 363
        },
        "id": "sqIdcw0wcWCY",
        "outputId": "a08ba1bf-bf1d-46e5-fe77-18714ae9ef5a"
      },
      "outputs": [
        {
          "data": {
            "text/html": [
              "<div>\n",
              "<style scoped>\n",
              "    .dataframe tbody tr th:only-of-type {\n",
              "        vertical-align: middle;\n",
              "    }\n",
              "\n",
              "    .dataframe tbody tr th {\n",
              "        vertical-align: top;\n",
              "    }\n",
              "\n",
              "    .dataframe thead th {\n",
              "        text-align: right;\n",
              "    }\n",
              "</style>\n",
              "<table border=\"1\" class=\"dataframe\">\n",
              "  <thead>\n",
              "    <tr style=\"text-align: right;\">\n",
              "      <th></th>\n",
              "      <th>Major</th>\n",
              "      <th>Early Career Pay</th>\n",
              "    </tr>\n",
              "  </thead>\n",
              "  <tbody>\n",
              "    <tr>\n",
              "      <th>56</th>\n",
              "      <td>Physician Assistant Studies</td>\n",
              "      <td>109600</td>\n",
              "    </tr>\n",
              "    <tr>\n",
              "      <th>1</th>\n",
              "      <td>Operations Research &amp; Industrial Engineering</td>\n",
              "      <td>98300</td>\n",
              "    </tr>\n",
              "    <tr>\n",
              "      <th>0</th>\n",
              "      <td>Petroleum Engineering</td>\n",
              "      <td>97500</td>\n",
              "    </tr>\n",
              "    <tr>\n",
              "      <th>117</th>\n",
              "      <td>Nuclear Engineering Technology (NET)</td>\n",
              "      <td>92500</td>\n",
              "    </tr>\n",
              "    <tr>\n",
              "      <th>6</th>\n",
              "      <td>Operations Research</td>\n",
              "      <td>92200</td>\n",
              "    </tr>\n",
              "    <tr>\n",
              "      <th>60</th>\n",
              "      <td>Metallurgical Engineering</td>\n",
              "      <td>90800</td>\n",
              "    </tr>\n",
              "    <tr>\n",
              "      <th>25</th>\n",
              "      <td>Computer Science (CS) &amp; Engineering</td>\n",
              "      <td>90500</td>\n",
              "    </tr>\n",
              "    <tr>\n",
              "      <th>23</th>\n",
              "      <td>Computer Engineering (CE)</td>\n",
              "      <td>89100</td>\n",
              "    </tr>\n",
              "    <tr>\n",
              "      <th>107</th>\n",
              "      <td>Medicine</td>\n",
              "      <td>88700</td>\n",
              "    </tr>\n",
              "    <tr>\n",
              "      <th>10</th>\n",
              "      <td>Aeronautics &amp; Astronautics</td>\n",
              "      <td>88200</td>\n",
              "    </tr>\n",
              "  </tbody>\n",
              "</table>\n",
              "</div>"
            ],
            "text/plain": [
              "                                            Major  Early Career Pay\n",
              "56                    Physician Assistant Studies            109600\n",
              "1    Operations Research & Industrial Engineering             98300\n",
              "0                           Petroleum Engineering             97500\n",
              "117          Nuclear Engineering Technology (NET)             92500\n",
              "6                             Operations Research             92200\n",
              "60                      Metallurgical Engineering             90800\n",
              "25            Computer Science (CS) & Engineering             90500\n",
              "23                      Computer Engineering (CE)             89100\n",
              "107                                      Medicine             88700\n",
              "10                     Aeronautics & Astronautics             88200"
            ]
          },
          "execution_count": 8,
          "metadata": {},
          "output_type": "execute_result"
        }
      ],
      "source": [
        "highest_paying = df.sort_values('Early Career Pay', ascending=False)\n",
        "highest_paying[['Major', 'Early Career Pay']].head(10)"
      ]
    },
    {
      "cell_type": "markdown",
      "metadata": {
        "id": "o4KdzwAhfJE9"
      },
      "source": [
        "**Highest Mid-Career Paying Majors**"
      ]
    },
    {
      "cell_type": "code",
      "execution_count": 9,
      "metadata": {
        "colab": {
          "base_uri": "https://localhost:8080/",
          "height": 363
        },
        "id": "l9UMn1kXdPHS",
        "outputId": "ad887e8d-7aeb-4ede-e5d2-2db2b97b02f8"
      },
      "outputs": [
        {
          "data": {
            "text/html": [
              "<div>\n",
              "<style scoped>\n",
              "    .dataframe tbody tr th:only-of-type {\n",
              "        vertical-align: middle;\n",
              "    }\n",
              "\n",
              "    .dataframe tbody tr th {\n",
              "        vertical-align: top;\n",
              "    }\n",
              "\n",
              "    .dataframe thead th {\n",
              "        text-align: right;\n",
              "    }\n",
              "</style>\n",
              "<table border=\"1\" class=\"dataframe\">\n",
              "  <thead>\n",
              "    <tr style=\"text-align: right;\">\n",
              "      <th></th>\n",
              "      <th>Major</th>\n",
              "      <th>Mid-Career Pay</th>\n",
              "    </tr>\n",
              "  </thead>\n",
              "  <tbody>\n",
              "    <tr>\n",
              "      <th>0</th>\n",
              "      <td>Petroleum Engineering</td>\n",
              "      <td>212500</td>\n",
              "    </tr>\n",
              "    <tr>\n",
              "      <th>1</th>\n",
              "      <td>Operations Research &amp; Industrial Engineering</td>\n",
              "      <td>191800</td>\n",
              "    </tr>\n",
              "    <tr>\n",
              "      <th>2</th>\n",
              "      <td>Interaction Design</td>\n",
              "      <td>173600</td>\n",
              "    </tr>\n",
              "    <tr>\n",
              "      <th>3</th>\n",
              "      <td>Applied Economics and Management</td>\n",
              "      <td>164400</td>\n",
              "    </tr>\n",
              "    <tr>\n",
              "      <th>4</th>\n",
              "      <td>Building Science</td>\n",
              "      <td>163100</td>\n",
              "    </tr>\n",
              "    <tr>\n",
              "      <th>5</th>\n",
              "      <td>Actuarial Mathematics</td>\n",
              "      <td>160000</td>\n",
              "    </tr>\n",
              "    <tr>\n",
              "      <th>6</th>\n",
              "      <td>Operations Research</td>\n",
              "      <td>160000</td>\n",
              "    </tr>\n",
              "    <tr>\n",
              "      <th>7</th>\n",
              "      <td>Systems Engineering</td>\n",
              "      <td>159100</td>\n",
              "    </tr>\n",
              "    <tr>\n",
              "      <th>8</th>\n",
              "      <td>Optical Science &amp; Engineering</td>\n",
              "      <td>158300</td>\n",
              "    </tr>\n",
              "    <tr>\n",
              "      <th>9</th>\n",
              "      <td>Information &amp; Computer Science</td>\n",
              "      <td>157800</td>\n",
              "    </tr>\n",
              "  </tbody>\n",
              "</table>\n",
              "</div>"
            ],
            "text/plain": [
              "                                          Major  Mid-Career Pay\n",
              "0                         Petroleum Engineering          212500\n",
              "1  Operations Research & Industrial Engineering          191800\n",
              "2                            Interaction Design          173600\n",
              "3              Applied Economics and Management          164400\n",
              "4                              Building Science          163100\n",
              "5                         Actuarial Mathematics          160000\n",
              "6                           Operations Research          160000\n",
              "7                           Systems Engineering          159100\n",
              "8                 Optical Science & Engineering          158300\n",
              "9                Information & Computer Science          157800"
            ]
          },
          "execution_count": 9,
          "metadata": {},
          "output_type": "execute_result"
        }
      ],
      "source": [
        "highest_paying = df.sort_values('Mid-Career Pay', ascending=False)\n",
        "highest_paying[['Major', 'Mid-Career Pay']].head(10)"
      ]
    },
    {
      "cell_type": "code",
      "execution_count": null,
      "metadata": {
        "id": "N0m-_ObOdmT3"
      },
      "outputs": [],
      "source": []
    }
  ],
  "metadata": {
    "colab": {
      "provenance": []
    },
    "kernelspec": {
      "display_name": "Python 3",
      "name": "python3"
    },
    "language_info": {
      "codemirror_mode": {
        "name": "ipython",
        "version": 3
      },
      "file_extension": ".py",
      "mimetype": "text/x-python",
      "name": "python",
      "nbconvert_exporter": "python",
      "pygments_lexer": "ipython3",
      "version": "3.11.4"
    }
  },
  "nbformat": 4,
  "nbformat_minor": 0
}
